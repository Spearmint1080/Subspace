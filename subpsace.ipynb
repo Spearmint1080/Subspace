{
 "cells": [
  {
   "cell_type": "code",
   "execution_count": 33,
   "metadata": {},
   "outputs": [],
   "source": [
    "import pandas as pd\n",
    "import numpy as np\n",
    "import requests\n",
    "import cv2 \n",
    "from pytesseract import pytesseract\n",
    "from PIL import Image\n",
    "import datetime\n",
    "from datetime import datetime\n",
    "from dateutil import parser\n",
    "import copy"
   ]
  },
  {
   "cell_type": "code",
   "execution_count": 2,
   "metadata": {},
   "outputs": [],
   "source": [
    "pytesseract.tesseract_cmd = 'C:\\\\Program Files\\\\Tesseract-OCR\\\\tesseract.exe'"
   ]
  },
  {
   "cell_type": "code",
   "execution_count": 3,
   "metadata": {},
   "outputs": [
    {
     "data": {
      "text/html": [
       "<div>\n",
       "<style scoped>\n",
       "    .dataframe tbody tr th:only-of-type {\n",
       "        vertical-align: middle;\n",
       "    }\n",
       "\n",
       "    .dataframe tbody tr th {\n",
       "        vertical-align: top;\n",
       "    }\n",
       "\n",
       "    .dataframe thead th {\n",
       "        text-align: right;\n",
       "    }\n",
       "</style>\n",
       "<table border=\"1\" class=\"dataframe\">\n",
       "  <thead>\n",
       "    <tr style=\"text-align: right;\">\n",
       "      <th></th>\n",
       "      <th>expiry_image</th>\n",
       "      <th>expiring_at</th>\n",
       "      <th>expiring_at_from_model</th>\n",
       "      <th>created_at</th>\n",
       "      <th>whatsub_plan</th>\n",
       "    </tr>\n",
       "  </thead>\n",
       "  <tbody>\n",
       "    <tr>\n",
       "      <th>0</th>\n",
       "      <td>https://cdn.subspace.money/w_subscriptions/Xk5...</td>\n",
       "      <td>2023-05-13</td>\n",
       "      <td>2023-05-13</td>\n",
       "      <td>2022-05-15 04:27:17.955815+00:00</td>\n",
       "      <td>{'duration': 3, 'duration_type': 'months'}</td>\n",
       "    </tr>\n",
       "    <tr>\n",
       "      <th>1</th>\n",
       "      <td>https://cdn.subspace.money/w_subscriptions/PKV...</td>\n",
       "      <td>2023-03-29</td>\n",
       "      <td>None</td>\n",
       "      <td>2022-06-10 11:28:46.053421+00:00</td>\n",
       "      <td>{'duration': 1, 'duration_type': 'years'}</td>\n",
       "    </tr>\n",
       "    <tr>\n",
       "      <th>2</th>\n",
       "      <td>https://cdn.subspace.money/w_subscriptions/80E...</td>\n",
       "      <td>2022-12-27</td>\n",
       "      <td>2022-12-27</td>\n",
       "      <td>2022-07-21 16:30:53.316893+00:00</td>\n",
       "      <td>{'duration': 1, 'duration_type': 'months'}</td>\n",
       "    </tr>\n",
       "    <tr>\n",
       "      <th>3</th>\n",
       "      <td>https://cdn.subspace.money/w_subscriptions/JIX...</td>\n",
       "      <td>2022-10-22</td>\n",
       "      <td>2022-08-22</td>\n",
       "      <td>2022-07-22 15:02:53.685566+00:00</td>\n",
       "      <td>{'duration': 1, 'duration_type': 'months'}</td>\n",
       "    </tr>\n",
       "    <tr>\n",
       "      <th>4</th>\n",
       "      <td>https://cdn.subspace.money/w_subscriptions/p4r...</td>\n",
       "      <td>2022-07-12</td>\n",
       "      <td>None</td>\n",
       "      <td>2022-06-12 05:16:00.847964+00:00</td>\n",
       "      <td>{'duration': 1, 'duration_type': 'months'}</td>\n",
       "    </tr>\n",
       "    <tr>\n",
       "      <th>...</th>\n",
       "      <td>...</td>\n",
       "      <td>...</td>\n",
       "      <td>...</td>\n",
       "      <td>...</td>\n",
       "      <td>...</td>\n",
       "    </tr>\n",
       "    <tr>\n",
       "      <th>6723</th>\n",
       "      <td>https://cdn.subspace.money/w_subscriptions/OYl...</td>\n",
       "      <td>2023-10-07</td>\n",
       "      <td>2023-10-07</td>\n",
       "      <td>2022-10-07 16:03:36.596915+00:00</td>\n",
       "      <td>{'duration': 12, 'duration_type': 'months'}</td>\n",
       "    </tr>\n",
       "    <tr>\n",
       "      <th>6724</th>\n",
       "      <td>https://cdn.subspace.money/w_subscriptions/5av...</td>\n",
       "      <td>2022-11-07</td>\n",
       "      <td>None</td>\n",
       "      <td>2022-10-07 16:06:06.037587+00:00</td>\n",
       "      <td>{'duration': 1, 'duration_type': 'months'}</td>\n",
       "    </tr>\n",
       "    <tr>\n",
       "      <th>6725</th>\n",
       "      <td>https://cdn.subspace.money/w_subscriptions/X4e...</td>\n",
       "      <td>2022-12-31</td>\n",
       "      <td>None</td>\n",
       "      <td>2022-10-07 17:25:59.667282+00:00</td>\n",
       "      <td>{'duration': 1, 'duration_type': 'months'}</td>\n",
       "    </tr>\n",
       "    <tr>\n",
       "      <th>6726</th>\n",
       "      <td>https://cdn.subspace.money/w_subscriptions/qmT...</td>\n",
       "      <td>2022-11-07</td>\n",
       "      <td>None</td>\n",
       "      <td>2022-06-14 08:22:25.590519+00:00</td>\n",
       "      <td>{'duration': 1, 'duration_type': 'months'}</td>\n",
       "    </tr>\n",
       "    <tr>\n",
       "      <th>6727</th>\n",
       "      <td>https://cdn.subspace.money/w_subscriptions/ana...</td>\n",
       "      <td>2023-03-23</td>\n",
       "      <td>2023-03-23</td>\n",
       "      <td>2022-09-24 15:10:06.040926+00:00</td>\n",
       "      <td>{'duration': 6, 'duration_type': 'months'}</td>\n",
       "    </tr>\n",
       "  </tbody>\n",
       "</table>\n",
       "<p>6728 rows × 5 columns</p>\n",
       "</div>"
      ],
      "text/plain": [
       "                                           expiry_image expiring_at  \\\n",
       "0     https://cdn.subspace.money/w_subscriptions/Xk5...  2023-05-13   \n",
       "1     https://cdn.subspace.money/w_subscriptions/PKV...  2023-03-29   \n",
       "2     https://cdn.subspace.money/w_subscriptions/80E...  2022-12-27   \n",
       "3     https://cdn.subspace.money/w_subscriptions/JIX...  2022-10-22   \n",
       "4     https://cdn.subspace.money/w_subscriptions/p4r...  2022-07-12   \n",
       "...                                                 ...         ...   \n",
       "6723  https://cdn.subspace.money/w_subscriptions/OYl...  2023-10-07   \n",
       "6724  https://cdn.subspace.money/w_subscriptions/5av...  2022-11-07   \n",
       "6725  https://cdn.subspace.money/w_subscriptions/X4e...  2022-12-31   \n",
       "6726  https://cdn.subspace.money/w_subscriptions/qmT...  2022-11-07   \n",
       "6727  https://cdn.subspace.money/w_subscriptions/ana...  2023-03-23   \n",
       "\n",
       "     expiring_at_from_model                       created_at  \\\n",
       "0                2023-05-13 2022-05-15 04:27:17.955815+00:00   \n",
       "1                      None 2022-06-10 11:28:46.053421+00:00   \n",
       "2                2022-12-27 2022-07-21 16:30:53.316893+00:00   \n",
       "3                2022-08-22 2022-07-22 15:02:53.685566+00:00   \n",
       "4                      None 2022-06-12 05:16:00.847964+00:00   \n",
       "...                     ...                              ...   \n",
       "6723             2023-10-07 2022-10-07 16:03:36.596915+00:00   \n",
       "6724                   None 2022-10-07 16:06:06.037587+00:00   \n",
       "6725                   None 2022-10-07 17:25:59.667282+00:00   \n",
       "6726                   None 2022-06-14 08:22:25.590519+00:00   \n",
       "6727             2023-03-23 2022-09-24 15:10:06.040926+00:00   \n",
       "\n",
       "                                     whatsub_plan  \n",
       "0      {'duration': 3, 'duration_type': 'months'}  \n",
       "1       {'duration': 1, 'duration_type': 'years'}  \n",
       "2      {'duration': 1, 'duration_type': 'months'}  \n",
       "3      {'duration': 1, 'duration_type': 'months'}  \n",
       "4      {'duration': 1, 'duration_type': 'months'}  \n",
       "...                                           ...  \n",
       "6723  {'duration': 12, 'duration_type': 'months'}  \n",
       "6724   {'duration': 1, 'duration_type': 'months'}  \n",
       "6725   {'duration': 1, 'duration_type': 'months'}  \n",
       "6726   {'duration': 1, 'duration_type': 'months'}  \n",
       "6727   {'duration': 6, 'duration_type': 'months'}  \n",
       "\n",
       "[6728 rows x 5 columns]"
      ]
     },
     "execution_count": 3,
     "metadata": {},
     "output_type": "execute_result"
    }
   ],
   "source": [
    "df = pd.read_json('subspace.json')\n",
    "df"
   ]
  },
  {
   "cell_type": "markdown",
   "metadata": {},
   "source": [
    "Date Processing"
   ]
  },
  {
   "cell_type": "code",
   "execution_count": 4,
   "metadata": {},
   "outputs": [],
   "source": [
    "# df['expiring_at']= df['expiring_at'].dt.to_pydatetime()"
   ]
  },
  {
   "cell_type": "code",
   "execution_count": 5,
   "metadata": {},
   "outputs": [
    {
     "data": {
      "text/plain": [
       "Timestamp('2023-03-29 00:00:00')"
      ]
     },
     "execution_count": 5,
     "metadata": {},
     "output_type": "execute_result"
    }
   ],
   "source": [
    "df.iloc[1,1]"
   ]
  },
  {
   "cell_type": "markdown",
   "metadata": {},
   "source": [
    "Image Processing"
   ]
  },
  {
   "cell_type": "code",
   "execution_count": 6,
   "metadata": {},
   "outputs": [],
   "source": [
    "def img_proc():\n",
    "    image = cv2.imread('test.jpeg')\n",
    "    gray = cv2.cvtColor(image, cv2.COLOR_BGR2GRAY)\n",
    "    blur = cv2.GaussianBlur(gray, (3,3), 0)\n",
    "    thresh = cv2.threshold(blur, 0, 255, cv2.THRESH_BINARY_INV + cv2.THRESH_OTSU)[1]\n",
    "\n",
    "    # Morph open to remove noise and invert image\n",
    "    kernel = cv2.getStructuringElement(cv2.MORPH_RECT, (3,3))\n",
    "    opening = cv2.morphologyEx(thresh, cv2.MORPH_OPEN, kernel, iterations=1)\n",
    "    invert = 255 - opening\n",
    "    cv2.imwrite('converted.jpg',invert)\n",
    "    return invert"
   ]
  },
  {
   "cell_type": "markdown",
   "metadata": {},
   "source": [
    "Text Extraction"
   ]
  },
  {
   "cell_type": "code",
   "execution_count": 7,
   "metadata": {},
   "outputs": [],
   "source": [
    "def txt_exr(invert):\n",
    "    data = pytesseract.image_to_string(invert, lang='eng', config='--psm 6')\n",
    "    text=data.lower().split('\\n')\n",
    "    return text"
   ]
  },
  {
   "cell_type": "markdown",
   "metadata": {},
   "source": [
    "Date Extraction"
   ]
  },
  {
   "cell_type": "code",
   "execution_count": 37,
   "metadata": {},
   "outputs": [],
   "source": [
    "def date_exr(text):\n",
    "    dates=[]\n",
    "    for w in text:\n",
    "        try:\n",
    "            res = parser.parse(w, fuzzy=True)\n",
    "            if res.time()==datetime.min.time():     #Only Extracts pure dates excluding things such as times on screenshot\n",
    "                dates.append((res.date(),w))\n",
    "        except:\n",
    "            continue\n",
    "    return(dates)"
   ]
  },
  {
   "cell_type": "markdown",
   "metadata": {},
   "source": [
    "Accessing All Images"
   ]
  },
  {
   "cell_type": "code",
   "execution_count": 42,
   "metadata": {},
   "outputs": [
    {
     "name": "stdout",
     "output_type": "stream",
     "text": [
      "https://cdn.subspace.money/w_subscriptions/Xk5bMvR8J7I_H6ywBPgSe.jpeg\n",
      "2023-05-13 [(datetime.date(2020, 1, 21), \"first became member on 21 jan '20\"), (datetime.date(2022, 10, 30), 'free deliveries on all up ta 30° extra off on'), (datetime.date(2023, 5, 13), \"expires on 13 may '23\"), (datetime.date(2022, 10, 15), 'routes bepress at sat opogrtsa at'), (datetime.date(2022, 10, 4), '; a oe 4 sh. ae'), (datetime.date(1131, 10, 13), 'biergarten hakuna matata 1131 bar +'), (datetime.date(2022, 10, 3), 'ts & . : . 3'), (datetime.date(2022, 10, 4), 'o . 4 ‘ ‘ es . . feast')]\n"
     ]
    }
   ],
   "source": [
    "phrase=[]\n",
    "for i in df.iloc[:1,0]:\n",
    "    c=0\n",
    "    r = requests.get(i)\n",
    "    print(i)\n",
    "    with open('test.jpeg', 'wb') as out:\n",
    "        out.write(r.content)\n",
    "    invert=img_proc()   #Image Processing\n",
    "    text=txt_exr(invert)    #Text Processing\n",
    "    date=date_exr(text)     #Date Extractoin\n",
    "    edate=df.iloc[c,1].to_pydatetime().date()\n",
    "    print(edate,date)\n",
    "    dmin=abs((date[0][0]-edate).days)\n",
    "    k=0\n",
    "    \n",
    "    for j in range(len(date)):\n",
    "        if abs((date[j][0]-edate).days)<dmin:\n",
    "            dmin = abs((date[j][0]-edate).days) \n",
    "            k=j\n",
    "    phrase.append((date[k][0],date[k][1],edate))\n",
    "            \n",
    "    im = Image.open(\"test.jpeg\")\n",
    "im.show()"
   ]
  },
  {
   "cell_type": "code",
   "execution_count": 40,
   "metadata": {},
   "outputs": [
    {
     "data": {
      "text/plain": [
       "[(datetime.date(2023, 5, 13), \"expires on 13 may '23\"),\n",
       " (datetime.date(2022, 10, 2), '{2 (feu account')]"
      ]
     },
     "execution_count": 40,
     "metadata": {},
     "output_type": "execute_result"
    }
   ],
   "source": [
    "phrase"
   ]
  },
  {
   "cell_type": "code",
   "execution_count": 21,
   "metadata": {},
   "outputs": [
    {
     "data": {
      "text/plain": [
       "[\"expires on 13 may '23\",\n",
       " '{2 (feu account',\n",
       " 'expires on december 27, 2022',\n",
       " 'subscription renewal date: mon 22 aug 2022']"
      ]
     },
     "execution_count": 21,
     "metadata": {},
     "output_type": "execute_result"
    }
   ],
   "source": [
    "phrase"
   ]
  },
  {
   "cell_type": "code",
   "execution_count": 27,
   "metadata": {},
   "outputs": [
    {
     "data": {
      "text/plain": [
       "'https://cdn.subspace.money/w_subscriptions/PKVCqar0VD_Bd5ZeH5u3b.jpeg'"
      ]
     },
     "execution_count": 27,
     "metadata": {},
     "output_type": "execute_result"
    }
   ],
   "source": [
    "df.iloc[1,0]"
   ]
  },
  {
   "cell_type": "code",
   "execution_count": null,
   "metadata": {},
   "outputs": [
    {
     "ename": "NameError",
     "evalue": "name 'res' is not defined",
     "output_type": "error",
     "traceback": [
      "\u001b[1;31m---------------------------------------------------------------------------\u001b[0m",
      "\u001b[1;31mNameError\u001b[0m                                 Traceback (most recent call last)",
      "\u001b[1;32mc:\\Users\\roshr\\Subspace\\subpsace.ipynb Cell 15\u001b[0m in \u001b[0;36m<cell line: 1>\u001b[1;34m()\u001b[0m\n\u001b[1;32m----> <a href='vscode-notebook-cell:/c%3A/Users/roshr/Subspace/subpsace.ipynb#X20sZmlsZQ%3D%3D?line=0'>1</a>\u001b[0m res\u001b[39m<\u001b[39mdatetime\u001b[39m.\u001b[39mdatetime\u001b[39m.\u001b[39mnow()\n",
      "\u001b[1;31mNameError\u001b[0m: name 'res' is not defined"
     ]
    }
   ],
   "source": [
    "# res<datetime.datetime.now()"
   ]
  },
  {
   "cell_type": "markdown",
   "metadata": {},
   "source": [
    "Converting Date from DataFrame into Usable Format"
   ]
  },
  {
   "cell_type": "code",
   "execution_count": null,
   "metadata": {},
   "outputs": [
    {
     "data": {
      "text/plain": [
       "datetime.datetime(2022, 10, 22, 0, 0)"
      ]
     },
     "execution_count": 85,
     "metadata": {},
     "output_type": "execute_result"
    }
   ],
   "source": [
    "edate=df.iloc[3,1].to_pydatetime()\n",
    "edate"
   ]
  },
  {
   "cell_type": "code",
   "execution_count": null,
   "metadata": {},
   "outputs": [
    {
     "data": {
      "text/plain": [
       "'https://cdn.subspace.money/w_subscriptions/Xk5bMvR8J7I_H6ywBPgSe.jpeg'"
      ]
     },
     "execution_count": 87,
     "metadata": {},
     "output_type": "execute_result"
    }
   ],
   "source": [
    "df.iloc[0,0]"
   ]
  }
 ],
 "metadata": {
  "kernelspec": {
   "display_name": "Python 3.10.5 64-bit",
   "language": "python",
   "name": "python3"
  },
  "language_info": {
   "codemirror_mode": {
    "name": "ipython",
    "version": 3
   },
   "file_extension": ".py",
   "mimetype": "text/x-python",
   "name": "python",
   "nbconvert_exporter": "python",
   "pygments_lexer": "ipython3",
   "version": "3.10.5"
  },
  "orig_nbformat": 4,
  "vscode": {
   "interpreter": {
    "hash": "81a5c4060a85b93e5abdc9559743780c516e67be92a552c78eb67f27eff09551"
   }
  }
 },
 "nbformat": 4,
 "nbformat_minor": 2
}
