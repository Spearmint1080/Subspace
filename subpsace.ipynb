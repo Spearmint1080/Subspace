{
 "cells": [
  {
   "cell_type": "code",
   "execution_count": 1,
   "metadata": {},
   "outputs": [
    {
     "name": "stderr",
     "output_type": "stream",
     "text": [
      "C:\\Users\\roshr\\AppData\\Local\\Programs\\Python\\Python310\\Lib\\site-packages\\numpy\\_distributor_init.py:30: UserWarning: loaded more than 1 DLL from .libs:\n",
      "C:\\Users\\roshr\\AppData\\Local\\Programs\\Python\\Python310\\Lib\\site-packages\\numpy\\.libs\\libopenblas.EL2C6PLE4ZYW3ECEVIV3OXXGRN2NRFM2.gfortran-win_amd64.dll\n",
      "C:\\Users\\roshr\\AppData\\Local\\Programs\\Python\\Python310\\Lib\\site-packages\\numpy\\.libs\\libopenblas.FB5AE2TYXYH2IJRDKGDGQ3XBKLKTF43H.gfortran-win_amd64.dll\n",
      "  warnings.warn(\"loaded more than 1 DLL from .libs:\"\n"
     ]
    }
   ],
   "source": [
    "import pandas as pd\n",
    "import numpy as np\n",
    "import requests\n",
    "import cv2 \n",
    "from pytesseract import pytesseract\n",
    "from PIL import Image\n",
    "import copy"
   ]
  },
  {
   "cell_type": "code",
   "execution_count": 2,
   "metadata": {},
   "outputs": [],
   "source": [
    "pytesseract.tesseract_cmd = 'C:\\\\Program Files\\\\Tesseract-OCR\\\\tesseract.exe'"
   ]
  },
  {
   "cell_type": "code",
   "execution_count": 3,
   "metadata": {},
   "outputs": [
    {
     "data": {
      "text/html": [
       "<div>\n",
       "<style scoped>\n",
       "    .dataframe tbody tr th:only-of-type {\n",
       "        vertical-align: middle;\n",
       "    }\n",
       "\n",
       "    .dataframe tbody tr th {\n",
       "        vertical-align: top;\n",
       "    }\n",
       "\n",
       "    .dataframe thead th {\n",
       "        text-align: right;\n",
       "    }\n",
       "</style>\n",
       "<table border=\"1\" class=\"dataframe\">\n",
       "  <thead>\n",
       "    <tr style=\"text-align: right;\">\n",
       "      <th></th>\n",
       "      <th>expiry_image</th>\n",
       "      <th>expiring_at</th>\n",
       "      <th>expiring_at_from_model</th>\n",
       "      <th>created_at</th>\n",
       "      <th>whatsub_plan</th>\n",
       "    </tr>\n",
       "  </thead>\n",
       "  <tbody>\n",
       "    <tr>\n",
       "      <th>0</th>\n",
       "      <td>https://cdn.subspace.money/w_subscriptions/Xk5...</td>\n",
       "      <td>2023-05-13</td>\n",
       "      <td>2023-05-13</td>\n",
       "      <td>2022-05-15 04:27:17.955815+00:00</td>\n",
       "      <td>{'duration': 3, 'duration_type': 'months'}</td>\n",
       "    </tr>\n",
       "    <tr>\n",
       "      <th>1</th>\n",
       "      <td>https://cdn.subspace.money/w_subscriptions/PKV...</td>\n",
       "      <td>2023-03-29</td>\n",
       "      <td>None</td>\n",
       "      <td>2022-06-10 11:28:46.053421+00:00</td>\n",
       "      <td>{'duration': 1, 'duration_type': 'years'}</td>\n",
       "    </tr>\n",
       "    <tr>\n",
       "      <th>2</th>\n",
       "      <td>https://cdn.subspace.money/w_subscriptions/80E...</td>\n",
       "      <td>2022-12-27</td>\n",
       "      <td>2022-12-27</td>\n",
       "      <td>2022-07-21 16:30:53.316893+00:00</td>\n",
       "      <td>{'duration': 1, 'duration_type': 'months'}</td>\n",
       "    </tr>\n",
       "    <tr>\n",
       "      <th>3</th>\n",
       "      <td>https://cdn.subspace.money/w_subscriptions/JIX...</td>\n",
       "      <td>2022-10-22</td>\n",
       "      <td>2022-08-22</td>\n",
       "      <td>2022-07-22 15:02:53.685566+00:00</td>\n",
       "      <td>{'duration': 1, 'duration_type': 'months'}</td>\n",
       "    </tr>\n",
       "    <tr>\n",
       "      <th>4</th>\n",
       "      <td>https://cdn.subspace.money/w_subscriptions/p4r...</td>\n",
       "      <td>2022-07-12</td>\n",
       "      <td>None</td>\n",
       "      <td>2022-06-12 05:16:00.847964+00:00</td>\n",
       "      <td>{'duration': 1, 'duration_type': 'months'}</td>\n",
       "    </tr>\n",
       "    <tr>\n",
       "      <th>...</th>\n",
       "      <td>...</td>\n",
       "      <td>...</td>\n",
       "      <td>...</td>\n",
       "      <td>...</td>\n",
       "      <td>...</td>\n",
       "    </tr>\n",
       "    <tr>\n",
       "      <th>6723</th>\n",
       "      <td>https://cdn.subspace.money/w_subscriptions/OYl...</td>\n",
       "      <td>2023-10-07</td>\n",
       "      <td>2023-10-07</td>\n",
       "      <td>2022-10-07 16:03:36.596915+00:00</td>\n",
       "      <td>{'duration': 12, 'duration_type': 'months'}</td>\n",
       "    </tr>\n",
       "    <tr>\n",
       "      <th>6724</th>\n",
       "      <td>https://cdn.subspace.money/w_subscriptions/5av...</td>\n",
       "      <td>2022-11-07</td>\n",
       "      <td>None</td>\n",
       "      <td>2022-10-07 16:06:06.037587+00:00</td>\n",
       "      <td>{'duration': 1, 'duration_type': 'months'}</td>\n",
       "    </tr>\n",
       "    <tr>\n",
       "      <th>6725</th>\n",
       "      <td>https://cdn.subspace.money/w_subscriptions/X4e...</td>\n",
       "      <td>2022-12-31</td>\n",
       "      <td>None</td>\n",
       "      <td>2022-10-07 17:25:59.667282+00:00</td>\n",
       "      <td>{'duration': 1, 'duration_type': 'months'}</td>\n",
       "    </tr>\n",
       "    <tr>\n",
       "      <th>6726</th>\n",
       "      <td>https://cdn.subspace.money/w_subscriptions/qmT...</td>\n",
       "      <td>2022-11-07</td>\n",
       "      <td>None</td>\n",
       "      <td>2022-06-14 08:22:25.590519+00:00</td>\n",
       "      <td>{'duration': 1, 'duration_type': 'months'}</td>\n",
       "    </tr>\n",
       "    <tr>\n",
       "      <th>6727</th>\n",
       "      <td>https://cdn.subspace.money/w_subscriptions/ana...</td>\n",
       "      <td>2023-03-23</td>\n",
       "      <td>2023-03-23</td>\n",
       "      <td>2022-09-24 15:10:06.040926+00:00</td>\n",
       "      <td>{'duration': 6, 'duration_type': 'months'}</td>\n",
       "    </tr>\n",
       "  </tbody>\n",
       "</table>\n",
       "<p>6728 rows × 5 columns</p>\n",
       "</div>"
      ],
      "text/plain": [
       "                                           expiry_image expiring_at  \\\n",
       "0     https://cdn.subspace.money/w_subscriptions/Xk5...  2023-05-13   \n",
       "1     https://cdn.subspace.money/w_subscriptions/PKV...  2023-03-29   \n",
       "2     https://cdn.subspace.money/w_subscriptions/80E...  2022-12-27   \n",
       "3     https://cdn.subspace.money/w_subscriptions/JIX...  2022-10-22   \n",
       "4     https://cdn.subspace.money/w_subscriptions/p4r...  2022-07-12   \n",
       "...                                                 ...         ...   \n",
       "6723  https://cdn.subspace.money/w_subscriptions/OYl...  2023-10-07   \n",
       "6724  https://cdn.subspace.money/w_subscriptions/5av...  2022-11-07   \n",
       "6725  https://cdn.subspace.money/w_subscriptions/X4e...  2022-12-31   \n",
       "6726  https://cdn.subspace.money/w_subscriptions/qmT...  2022-11-07   \n",
       "6727  https://cdn.subspace.money/w_subscriptions/ana...  2023-03-23   \n",
       "\n",
       "     expiring_at_from_model                       created_at  \\\n",
       "0                2023-05-13 2022-05-15 04:27:17.955815+00:00   \n",
       "1                      None 2022-06-10 11:28:46.053421+00:00   \n",
       "2                2022-12-27 2022-07-21 16:30:53.316893+00:00   \n",
       "3                2022-08-22 2022-07-22 15:02:53.685566+00:00   \n",
       "4                      None 2022-06-12 05:16:00.847964+00:00   \n",
       "...                     ...                              ...   \n",
       "6723             2023-10-07 2022-10-07 16:03:36.596915+00:00   \n",
       "6724                   None 2022-10-07 16:06:06.037587+00:00   \n",
       "6725                   None 2022-10-07 17:25:59.667282+00:00   \n",
       "6726                   None 2022-06-14 08:22:25.590519+00:00   \n",
       "6727             2023-03-23 2022-09-24 15:10:06.040926+00:00   \n",
       "\n",
       "                                     whatsub_plan  \n",
       "0      {'duration': 3, 'duration_type': 'months'}  \n",
       "1       {'duration': 1, 'duration_type': 'years'}  \n",
       "2      {'duration': 1, 'duration_type': 'months'}  \n",
       "3      {'duration': 1, 'duration_type': 'months'}  \n",
       "4      {'duration': 1, 'duration_type': 'months'}  \n",
       "...                                           ...  \n",
       "6723  {'duration': 12, 'duration_type': 'months'}  \n",
       "6724   {'duration': 1, 'duration_type': 'months'}  \n",
       "6725   {'duration': 1, 'duration_type': 'months'}  \n",
       "6726   {'duration': 1, 'duration_type': 'months'}  \n",
       "6727   {'duration': 6, 'duration_type': 'months'}  \n",
       "\n",
       "[6728 rows x 5 columns]"
      ]
     },
     "execution_count": 3,
     "metadata": {},
     "output_type": "execute_result"
    }
   ],
   "source": [
    "df = pd.read_json('subspace.json')\n",
    "df"
   ]
  },
  {
   "cell_type": "markdown",
   "metadata": {},
   "source": [
    "Accessing All Images"
   ]
  },
  {
   "cell_type": "code",
   "execution_count": 4,
   "metadata": {},
   "outputs": [
    {
     "name": "stdout",
     "output_type": "stream",
     "text": [
      "https://cdn.subspace.money/w_subscriptions/Xk5bMvR8J7I_H6ywBPgSe.jpeg\n"
     ]
    }
   ],
   "source": [
    "for i in df.iloc[:1,0]:\n",
    "    r = requests.get(i)\n",
    "    print(i)\n",
    "    with open('test.jpeg', 'wb') as out:\n",
    "        out.write(r.content)\n",
    "    im = Image.open(\"test.jpeg\")\n",
    "im.show()"
   ]
  },
  {
   "cell_type": "markdown",
   "metadata": {},
   "source": [
    "Image Processing"
   ]
  },
  {
   "cell_type": "code",
   "execution_count": 5,
   "metadata": {},
   "outputs": [
    {
     "data": {
      "text/plain": [
       "True"
      ]
     },
     "execution_count": 5,
     "metadata": {},
     "output_type": "execute_result"
    }
   ],
   "source": [
    "\n",
    "image = cv2.imread('test.jpeg')\n",
    "gray = cv2.cvtColor(image, cv2.COLOR_BGR2GRAY)\n",
    "blur = cv2.GaussianBlur(gray, (3,3), 0)\n",
    "thresh = cv2.threshold(blur, 0, 255, cv2.THRESH_BINARY_INV + cv2.THRESH_OTSU)[1]\n",
    "\n",
    "# Morph open to remove noise and invert image\n",
    "kernel = cv2.getStructuringElement(cv2.MORPH_RECT, (3,3))\n",
    "opening = cv2.morphologyEx(thresh, cv2.MORPH_OPEN, kernel, iterations=1)\n",
    "invert = 255 - opening\n",
    "cv2.imwrite('converted.jpg',invert)"
   ]
  },
  {
   "cell_type": "markdown",
   "metadata": {},
   "source": [
    "Text Extraction"
   ]
  },
  {
   "cell_type": "code",
   "execution_count": 7,
   "metadata": {},
   "outputs": [
    {
     "name": "stdout",
     "output_type": "stream",
     "text": [
      "3:53 PM|4.8MB/sO 9 v J oll Wei ll We, GO\n",
      "\n",
      "<\n",
      "\n",
      "zomato\n",
      "Gixe) PLUS\n",
      "\n",
      "First became member on 21 Jan '20\n",
      "\n",
      "You are a Pro Plus member\n",
      "\n",
      "9 ‘sc\n",
      "\n",
      "Free deliveries on all Up ta 30° extra off on\n",
      "online orders food deliveries\n",
      "\n",
      "Expires on 13 May '23\n",
      "\n",
      "Explore pro dining partners\n",
      "\n",
      "Pro 15% OFF\n",
      "Biergarten Hakuna Matata 1131 Bar +\n",
      "Whitefield JP Nagar Indiranagar\n",
      "\n",
      "- o>\n",
      "\n",
      "Pro 20% OFF 4.5% Pro 15% OFF\n",
      "\n",
      "\n"
     ]
    }
   ],
   "source": [
    "data = pytesseract.image_to_string(invert, lang='eng', config='--psm 6')\n",
    "print(data)"
   ]
  }
 ],
 "metadata": {
  "kernelspec": {
   "display_name": "Python 3.10.5 64-bit",
   "language": "python",
   "name": "python3"
  },
  "language_info": {
   "codemirror_mode": {
    "name": "ipython",
    "version": 3
   },
   "file_extension": ".py",
   "mimetype": "text/x-python",
   "name": "python",
   "nbconvert_exporter": "python",
   "pygments_lexer": "ipython3",
   "version": "3.10.5"
  },
  "orig_nbformat": 4,
  "vscode": {
   "interpreter": {
    "hash": "81a5c4060a85b93e5abdc9559743780c516e67be92a552c78eb67f27eff09551"
   }
  }
 },
 "nbformat": 4,
 "nbformat_minor": 2
}
