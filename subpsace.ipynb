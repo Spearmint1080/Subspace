{
 "cells": [
  {
   "cell_type": "code",
   "execution_count": 7,
   "metadata": {},
   "outputs": [],
   "source": [
    "import pandas as pd\n",
    "import numpy as np\n",
    "import requests\n",
    "import cv2 \n",
    "from pytesseract import pytesseract\n",
    "from PIL import Image\n",
    "from urllib.request import Request, urlopen,urlretrieve\n",
    "import copy"
   ]
  },
  {
   "cell_type": "code",
   "execution_count": 8,
   "metadata": {},
   "outputs": [],
   "source": [
    "pytesseract.tesseract_cmd = r'c:\\users\\roshr\\appdata\\local\\programs\\python\\python310\\lib\\site-packages'"
   ]
  },
  {
   "cell_type": "code",
   "execution_count": 9,
   "metadata": {},
   "outputs": [
    {
     "data": {
      "text/html": [
       "<div>\n",
       "<style scoped>\n",
       "    .dataframe tbody tr th:only-of-type {\n",
       "        vertical-align: middle;\n",
       "    }\n",
       "\n",
       "    .dataframe tbody tr th {\n",
       "        vertical-align: top;\n",
       "    }\n",
       "\n",
       "    .dataframe thead th {\n",
       "        text-align: right;\n",
       "    }\n",
       "</style>\n",
       "<table border=\"1\" class=\"dataframe\">\n",
       "  <thead>\n",
       "    <tr style=\"text-align: right;\">\n",
       "      <th></th>\n",
       "      <th>expiry_image</th>\n",
       "      <th>expiring_at</th>\n",
       "      <th>expiring_at_from_model</th>\n",
       "      <th>created_at</th>\n",
       "      <th>whatsub_plan</th>\n",
       "    </tr>\n",
       "  </thead>\n",
       "  <tbody>\n",
       "    <tr>\n",
       "      <th>0</th>\n",
       "      <td>https://cdn.subspace.money/w_subscriptions/Xk5...</td>\n",
       "      <td>2023-05-13</td>\n",
       "      <td>2023-05-13</td>\n",
       "      <td>2022-05-15 04:27:17.955815+00:00</td>\n",
       "      <td>{'duration': 3, 'duration_type': 'months'}</td>\n",
       "    </tr>\n",
       "    <tr>\n",
       "      <th>1</th>\n",
       "      <td>https://cdn.subspace.money/w_subscriptions/PKV...</td>\n",
       "      <td>2023-03-29</td>\n",
       "      <td>None</td>\n",
       "      <td>2022-06-10 11:28:46.053421+00:00</td>\n",
       "      <td>{'duration': 1, 'duration_type': 'years'}</td>\n",
       "    </tr>\n",
       "    <tr>\n",
       "      <th>2</th>\n",
       "      <td>https://cdn.subspace.money/w_subscriptions/80E...</td>\n",
       "      <td>2022-12-27</td>\n",
       "      <td>2022-12-27</td>\n",
       "      <td>2022-07-21 16:30:53.316893+00:00</td>\n",
       "      <td>{'duration': 1, 'duration_type': 'months'}</td>\n",
       "    </tr>\n",
       "    <tr>\n",
       "      <th>3</th>\n",
       "      <td>https://cdn.subspace.money/w_subscriptions/JIX...</td>\n",
       "      <td>2022-10-22</td>\n",
       "      <td>2022-08-22</td>\n",
       "      <td>2022-07-22 15:02:53.685566+00:00</td>\n",
       "      <td>{'duration': 1, 'duration_type': 'months'}</td>\n",
       "    </tr>\n",
       "    <tr>\n",
       "      <th>4</th>\n",
       "      <td>https://cdn.subspace.money/w_subscriptions/p4r...</td>\n",
       "      <td>2022-07-12</td>\n",
       "      <td>None</td>\n",
       "      <td>2022-06-12 05:16:00.847964+00:00</td>\n",
       "      <td>{'duration': 1, 'duration_type': 'months'}</td>\n",
       "    </tr>\n",
       "    <tr>\n",
       "      <th>...</th>\n",
       "      <td>...</td>\n",
       "      <td>...</td>\n",
       "      <td>...</td>\n",
       "      <td>...</td>\n",
       "      <td>...</td>\n",
       "    </tr>\n",
       "    <tr>\n",
       "      <th>6723</th>\n",
       "      <td>https://cdn.subspace.money/w_subscriptions/OYl...</td>\n",
       "      <td>2023-10-07</td>\n",
       "      <td>2023-10-07</td>\n",
       "      <td>2022-10-07 16:03:36.596915+00:00</td>\n",
       "      <td>{'duration': 12, 'duration_type': 'months'}</td>\n",
       "    </tr>\n",
       "    <tr>\n",
       "      <th>6724</th>\n",
       "      <td>https://cdn.subspace.money/w_subscriptions/5av...</td>\n",
       "      <td>2022-11-07</td>\n",
       "      <td>None</td>\n",
       "      <td>2022-10-07 16:06:06.037587+00:00</td>\n",
       "      <td>{'duration': 1, 'duration_type': 'months'}</td>\n",
       "    </tr>\n",
       "    <tr>\n",
       "      <th>6725</th>\n",
       "      <td>https://cdn.subspace.money/w_subscriptions/X4e...</td>\n",
       "      <td>2022-12-31</td>\n",
       "      <td>None</td>\n",
       "      <td>2022-10-07 17:25:59.667282+00:00</td>\n",
       "      <td>{'duration': 1, 'duration_type': 'months'}</td>\n",
       "    </tr>\n",
       "    <tr>\n",
       "      <th>6726</th>\n",
       "      <td>https://cdn.subspace.money/w_subscriptions/qmT...</td>\n",
       "      <td>2022-11-07</td>\n",
       "      <td>None</td>\n",
       "      <td>2022-06-14 08:22:25.590519+00:00</td>\n",
       "      <td>{'duration': 1, 'duration_type': 'months'}</td>\n",
       "    </tr>\n",
       "    <tr>\n",
       "      <th>6727</th>\n",
       "      <td>https://cdn.subspace.money/w_subscriptions/ana...</td>\n",
       "      <td>2023-03-23</td>\n",
       "      <td>2023-03-23</td>\n",
       "      <td>2022-09-24 15:10:06.040926+00:00</td>\n",
       "      <td>{'duration': 6, 'duration_type': 'months'}</td>\n",
       "    </tr>\n",
       "  </tbody>\n",
       "</table>\n",
       "<p>6728 rows × 5 columns</p>\n",
       "</div>"
      ],
      "text/plain": [
       "                                           expiry_image expiring_at  \\\n",
       "0     https://cdn.subspace.money/w_subscriptions/Xk5...  2023-05-13   \n",
       "1     https://cdn.subspace.money/w_subscriptions/PKV...  2023-03-29   \n",
       "2     https://cdn.subspace.money/w_subscriptions/80E...  2022-12-27   \n",
       "3     https://cdn.subspace.money/w_subscriptions/JIX...  2022-10-22   \n",
       "4     https://cdn.subspace.money/w_subscriptions/p4r...  2022-07-12   \n",
       "...                                                 ...         ...   \n",
       "6723  https://cdn.subspace.money/w_subscriptions/OYl...  2023-10-07   \n",
       "6724  https://cdn.subspace.money/w_subscriptions/5av...  2022-11-07   \n",
       "6725  https://cdn.subspace.money/w_subscriptions/X4e...  2022-12-31   \n",
       "6726  https://cdn.subspace.money/w_subscriptions/qmT...  2022-11-07   \n",
       "6727  https://cdn.subspace.money/w_subscriptions/ana...  2023-03-23   \n",
       "\n",
       "     expiring_at_from_model                       created_at  \\\n",
       "0                2023-05-13 2022-05-15 04:27:17.955815+00:00   \n",
       "1                      None 2022-06-10 11:28:46.053421+00:00   \n",
       "2                2022-12-27 2022-07-21 16:30:53.316893+00:00   \n",
       "3                2022-08-22 2022-07-22 15:02:53.685566+00:00   \n",
       "4                      None 2022-06-12 05:16:00.847964+00:00   \n",
       "...                     ...                              ...   \n",
       "6723             2023-10-07 2022-10-07 16:03:36.596915+00:00   \n",
       "6724                   None 2022-10-07 16:06:06.037587+00:00   \n",
       "6725                   None 2022-10-07 17:25:59.667282+00:00   \n",
       "6726                   None 2022-06-14 08:22:25.590519+00:00   \n",
       "6727             2023-03-23 2022-09-24 15:10:06.040926+00:00   \n",
       "\n",
       "                                     whatsub_plan  \n",
       "0      {'duration': 3, 'duration_type': 'months'}  \n",
       "1       {'duration': 1, 'duration_type': 'years'}  \n",
       "2      {'duration': 1, 'duration_type': 'months'}  \n",
       "3      {'duration': 1, 'duration_type': 'months'}  \n",
       "4      {'duration': 1, 'duration_type': 'months'}  \n",
       "...                                           ...  \n",
       "6723  {'duration': 12, 'duration_type': 'months'}  \n",
       "6724   {'duration': 1, 'duration_type': 'months'}  \n",
       "6725   {'duration': 1, 'duration_type': 'months'}  \n",
       "6726   {'duration': 1, 'duration_type': 'months'}  \n",
       "6727   {'duration': 6, 'duration_type': 'months'}  \n",
       "\n",
       "[6728 rows x 5 columns]"
      ]
     },
     "execution_count": 9,
     "metadata": {},
     "output_type": "execute_result"
    }
   ],
   "source": [
    "df = pd.read_json('subspace.json')\n",
    "df"
   ]
  },
  {
   "cell_type": "markdown",
   "metadata": {},
   "source": [
    "Accessing All Images"
   ]
  },
  {
   "cell_type": "code",
   "execution_count": 10,
   "metadata": {},
   "outputs": [
    {
     "name": "stdout",
     "output_type": "stream",
     "text": [
      "https://cdn.subspace.money/w_subscriptions/Xk5bMvR8J7I_H6ywBPgSe.jpeg\n",
      "https://cdn.subspace.money/w_subscriptions/PKVCqar0VD_Bd5ZeH5u3b.jpeg\n",
      "https://cdn.subspace.money/w_subscriptions/80EDUPk1OPF2HsfPc2DxR.jpeg\n",
      "https://cdn.subspace.money/w_subscriptions/JIXqhr0Z3tgejBXiHMe5G.jpeg\n",
      "https://cdn.subspace.money/w_subscriptions/p4rpSF3m2Tk7MvYJes-rU.jpeg\n",
      "https://cdn.subspace.money/w_subscriptions/hTm_kemQ5eXLY-hAG7g6a.jpeg\n",
      "https://cdn.subspace.money/w_subscriptions/eCgajW4ozJSYuaedzwx8Z.jpeg\n",
      "https://cdn.subspace.money/w_subscriptions/KHPHJ3vRAwyIpkTeL6od_.jpeg\n",
      "https://cdn.subspace.money/w_subscriptions/ZjDa2LhXpqAqImRrYE6mX.jpeg\n",
      "https://cdn.subspace.money/w_subscriptions/dTXEOgLfz4O8gHoSz8Ucz.jpeg\n",
      "https://cdn.subspace.money/w_subscriptions/AQ8o5L1zpUnaMvxRFRifH.jpeg\n",
      "https://cdn.subspace.money/w_subscriptions/BpkaedJRaSjHY_WPuvGyo.jpeg\n",
      "https://cdn.subspace.money/w_subscriptions/F_xsSXo_xcRv8v84STSOW.jpeg\n",
      "https://cdn.subspace.money/w_subscriptions/WaVyKgxn_yUresyhv2BKa.jpeg\n",
      "https://cdn.subspace.money/w_subscriptions/zkcX1BNFKzzzacW6mPjY4.jpeg\n",
      "https://cdn.subspace.money/w_subscriptions/XybpVYhoKlltr3gvdrXIk.jpeg\n"
     ]
    }
   ],
   "source": [
    "for i in df.iloc[:16,0]:\n",
    "    r = requests.get(i)\n",
    "    print(i)\n",
    "    with open('test.jpeg', 'wb') as out:\n",
    "        out.write(r.content)\n",
    "    im = Image.open(\"test.jpeg\")\n",
    "im.show()"
   ]
  },
  {
   "cell_type": "code",
   "execution_count": null,
   "metadata": {},
   "outputs": [
    {
     "ename": "PermissionError",
     "evalue": "[WinError 5] Access is denied",
     "output_type": "error",
     "traceback": [
      "\u001b[1;31m---------------------------------------------------------------------------\u001b[0m",
      "\u001b[1;31mPermissionError\u001b[0m                           Traceback (most recent call last)",
      "\u001b[1;32mc:\\Users\\roshr\\Subspace\\subpsace.ipynb Cell 6\u001b[0m in \u001b[0;36m<cell line: 12>\u001b[1;34m()\u001b[0m\n\u001b[0;32m      <a href='vscode-notebook-cell:/c%3A/Users/roshr/Subspace/subpsace.ipynb#W5sZmlsZQ%3D%3D?line=8'>9</a>\u001b[0m invert \u001b[39m=\u001b[39m \u001b[39m255\u001b[39m \u001b[39m-\u001b[39m opening\n\u001b[0;32m     <a href='vscode-notebook-cell:/c%3A/Users/roshr/Subspace/subpsace.ipynb#W5sZmlsZQ%3D%3D?line=10'>11</a>\u001b[0m \u001b[39m# # Perform text extraction\u001b[39;00m\n\u001b[1;32m---> <a href='vscode-notebook-cell:/c%3A/Users/roshr/Subspace/subpsace.ipynb#W5sZmlsZQ%3D%3D?line=11'>12</a>\u001b[0m data \u001b[39m=\u001b[39m pytesseract\u001b[39m.\u001b[39;49mimage_to_string(invert, lang\u001b[39m=\u001b[39;49m\u001b[39m'\u001b[39;49m\u001b[39meng\u001b[39;49m\u001b[39m'\u001b[39;49m, config\u001b[39m=\u001b[39;49m\u001b[39m'\u001b[39;49m\u001b[39m--psm 6\u001b[39;49m\u001b[39m'\u001b[39;49m)\n\u001b[0;32m     <a href='vscode-notebook-cell:/c%3A/Users/roshr/Subspace/subpsace.ipynb#W5sZmlsZQ%3D%3D?line=12'>13</a>\u001b[0m \u001b[39mprint\u001b[39m(data)\n\u001b[0;32m     <a href='vscode-notebook-cell:/c%3A/Users/roshr/Subspace/subpsace.ipynb#W5sZmlsZQ%3D%3D?line=14'>15</a>\u001b[0m \u001b[39m# cv2.imshow('thresh', thresh)\u001b[39;00m\n\u001b[0;32m     <a href='vscode-notebook-cell:/c%3A/Users/roshr/Subspace/subpsace.ipynb#W5sZmlsZQ%3D%3D?line=15'>16</a>\u001b[0m \u001b[39m# cv2.imshow('opening', opening)\u001b[39;00m\n",
      "File \u001b[1;32m~\\AppData\\Local\\Programs\\Python\\Python310\\Lib\\site-packages\\pytesseract\\pytesseract.py:423\u001b[0m, in \u001b[0;36mimage_to_string\u001b[1;34m(image, lang, config, nice, output_type, timeout)\u001b[0m\n\u001b[0;32m    418\u001b[0m \u001b[39m\"\"\"\u001b[39;00m\n\u001b[0;32m    419\u001b[0m \u001b[39mReturns the result of a Tesseract OCR run on the provided image to string\u001b[39;00m\n\u001b[0;32m    420\u001b[0m \u001b[39m\"\"\"\u001b[39;00m\n\u001b[0;32m    421\u001b[0m args \u001b[39m=\u001b[39m [image, \u001b[39m'\u001b[39m\u001b[39mtxt\u001b[39m\u001b[39m'\u001b[39m, lang, config, nice, timeout]\n\u001b[1;32m--> 423\u001b[0m \u001b[39mreturn\u001b[39;00m {\n\u001b[0;32m    424\u001b[0m     Output\u001b[39m.\u001b[39;49mBYTES: \u001b[39mlambda\u001b[39;49;00m: run_and_get_output(\u001b[39m*\u001b[39;49m(args \u001b[39m+\u001b[39;49m [\u001b[39mTrue\u001b[39;49;00m])),\n\u001b[0;32m    425\u001b[0m     Output\u001b[39m.\u001b[39;49mDICT: \u001b[39mlambda\u001b[39;49;00m: {\u001b[39m'\u001b[39;49m\u001b[39mtext\u001b[39;49m\u001b[39m'\u001b[39;49m: run_and_get_output(\u001b[39m*\u001b[39;49margs)},\n\u001b[0;32m    426\u001b[0m     Output\u001b[39m.\u001b[39;49mSTRING: \u001b[39mlambda\u001b[39;49;00m: run_and_get_output(\u001b[39m*\u001b[39;49margs),\n\u001b[0;32m    427\u001b[0m }[output_type]()\n",
      "File \u001b[1;32m~\\AppData\\Local\\Programs\\Python\\Python310\\Lib\\site-packages\\pytesseract\\pytesseract.py:426\u001b[0m, in \u001b[0;36mimage_to_string.<locals>.<lambda>\u001b[1;34m()\u001b[0m\n\u001b[0;32m    418\u001b[0m \u001b[39m\"\"\"\u001b[39;00m\n\u001b[0;32m    419\u001b[0m \u001b[39mReturns the result of a Tesseract OCR run on the provided image to string\u001b[39;00m\n\u001b[0;32m    420\u001b[0m \u001b[39m\"\"\"\u001b[39;00m\n\u001b[0;32m    421\u001b[0m args \u001b[39m=\u001b[39m [image, \u001b[39m'\u001b[39m\u001b[39mtxt\u001b[39m\u001b[39m'\u001b[39m, lang, config, nice, timeout]\n\u001b[0;32m    423\u001b[0m \u001b[39mreturn\u001b[39;00m {\n\u001b[0;32m    424\u001b[0m     Output\u001b[39m.\u001b[39mBYTES: \u001b[39mlambda\u001b[39;00m: run_and_get_output(\u001b[39m*\u001b[39m(args \u001b[39m+\u001b[39m [\u001b[39mTrue\u001b[39;00m])),\n\u001b[0;32m    425\u001b[0m     Output\u001b[39m.\u001b[39mDICT: \u001b[39mlambda\u001b[39;00m: {\u001b[39m'\u001b[39m\u001b[39mtext\u001b[39m\u001b[39m'\u001b[39m: run_and_get_output(\u001b[39m*\u001b[39margs)},\n\u001b[1;32m--> 426\u001b[0m     Output\u001b[39m.\u001b[39mSTRING: \u001b[39mlambda\u001b[39;00m: run_and_get_output(\u001b[39m*\u001b[39;49margs),\n\u001b[0;32m    427\u001b[0m }[output_type]()\n",
      "File \u001b[1;32m~\\AppData\\Local\\Programs\\Python\\Python310\\Lib\\site-packages\\pytesseract\\pytesseract.py:288\u001b[0m, in \u001b[0;36mrun_and_get_output\u001b[1;34m(image, extension, lang, config, nice, timeout, return_bytes)\u001b[0m\n\u001b[0;32m    277\u001b[0m \u001b[39mwith\u001b[39;00m save(image) \u001b[39mas\u001b[39;00m (temp_name, input_filename):\n\u001b[0;32m    278\u001b[0m     kwargs \u001b[39m=\u001b[39m {\n\u001b[0;32m    279\u001b[0m         \u001b[39m'\u001b[39m\u001b[39minput_filename\u001b[39m\u001b[39m'\u001b[39m: input_filename,\n\u001b[0;32m    280\u001b[0m         \u001b[39m'\u001b[39m\u001b[39moutput_filename_base\u001b[39m\u001b[39m'\u001b[39m: temp_name,\n\u001b[1;32m   (...)\u001b[0m\n\u001b[0;32m    285\u001b[0m         \u001b[39m'\u001b[39m\u001b[39mtimeout\u001b[39m\u001b[39m'\u001b[39m: timeout,\n\u001b[0;32m    286\u001b[0m     }\n\u001b[1;32m--> 288\u001b[0m     run_tesseract(\u001b[39m*\u001b[39m\u001b[39m*\u001b[39mkwargs)\n\u001b[0;32m    289\u001b[0m     filename \u001b[39m=\u001b[39m \u001b[39mf\u001b[39m\u001b[39m\"\u001b[39m\u001b[39m{\u001b[39;00mkwargs[\u001b[39m'\u001b[39m\u001b[39moutput_filename_base\u001b[39m\u001b[39m'\u001b[39m]\u001b[39m}\u001b[39;00m\u001b[39m{\u001b[39;00mextsep\u001b[39m}\u001b[39;00m\u001b[39m{\u001b[39;00mextension\u001b[39m}\u001b[39;00m\u001b[39m\"\u001b[39m\n\u001b[0;32m    290\u001b[0m     \u001b[39mwith\u001b[39;00m \u001b[39mopen\u001b[39m(filename, \u001b[39m'\u001b[39m\u001b[39mrb\u001b[39m\u001b[39m'\u001b[39m) \u001b[39mas\u001b[39;00m output_file:\n",
      "File \u001b[1;32m~\\AppData\\Local\\Programs\\Python\\Python310\\Lib\\site-packages\\pytesseract\\pytesseract.py:255\u001b[0m, in \u001b[0;36mrun_tesseract\u001b[1;34m(input_filename, output_filename_base, extension, lang, config, nice, timeout)\u001b[0m\n\u001b[0;32m    252\u001b[0m     cmd_args\u001b[39m.\u001b[39mappend(extension)\n\u001b[0;32m    254\u001b[0m \u001b[39mtry\u001b[39;00m:\n\u001b[1;32m--> 255\u001b[0m     proc \u001b[39m=\u001b[39m subprocess\u001b[39m.\u001b[39mPopen(cmd_args, \u001b[39m*\u001b[39m\u001b[39m*\u001b[39msubprocess_args())\n\u001b[0;32m    256\u001b[0m \u001b[39mexcept\u001b[39;00m \u001b[39mOSError\u001b[39;00m \u001b[39mas\u001b[39;00m e:\n\u001b[0;32m    257\u001b[0m     \u001b[39mif\u001b[39;00m e\u001b[39m.\u001b[39merrno \u001b[39m!=\u001b[39m ENOENT:\n",
      "File \u001b[1;32mc:\\Users\\roshr\\AppData\\Local\\Programs\\Python\\Python310\\lib\\subprocess.py:969\u001b[0m, in \u001b[0;36mPopen.__init__\u001b[1;34m(self, args, bufsize, executable, stdin, stdout, stderr, preexec_fn, close_fds, shell, cwd, env, universal_newlines, startupinfo, creationflags, restore_signals, start_new_session, pass_fds, user, group, extra_groups, encoding, errors, text, umask, pipesize)\u001b[0m\n\u001b[0;32m    965\u001b[0m         \u001b[39mif\u001b[39;00m \u001b[39mself\u001b[39m\u001b[39m.\u001b[39mtext_mode:\n\u001b[0;32m    966\u001b[0m             \u001b[39mself\u001b[39m\u001b[39m.\u001b[39mstderr \u001b[39m=\u001b[39m io\u001b[39m.\u001b[39mTextIOWrapper(\u001b[39mself\u001b[39m\u001b[39m.\u001b[39mstderr,\n\u001b[0;32m    967\u001b[0m                     encoding\u001b[39m=\u001b[39mencoding, errors\u001b[39m=\u001b[39merrors)\n\u001b[1;32m--> 969\u001b[0m     \u001b[39mself\u001b[39;49m\u001b[39m.\u001b[39;49m_execute_child(args, executable, preexec_fn, close_fds,\n\u001b[0;32m    970\u001b[0m                         pass_fds, cwd, env,\n\u001b[0;32m    971\u001b[0m                         startupinfo, creationflags, shell,\n\u001b[0;32m    972\u001b[0m                         p2cread, p2cwrite,\n\u001b[0;32m    973\u001b[0m                         c2pread, c2pwrite,\n\u001b[0;32m    974\u001b[0m                         errread, errwrite,\n\u001b[0;32m    975\u001b[0m                         restore_signals,\n\u001b[0;32m    976\u001b[0m                         gid, gids, uid, umask,\n\u001b[0;32m    977\u001b[0m                         start_new_session)\n\u001b[0;32m    978\u001b[0m \u001b[39mexcept\u001b[39;00m:\n\u001b[0;32m    979\u001b[0m     \u001b[39m# Cleanup if the child failed starting.\u001b[39;00m\n\u001b[0;32m    980\u001b[0m     \u001b[39mfor\u001b[39;00m f \u001b[39min\u001b[39;00m \u001b[39mfilter\u001b[39m(\u001b[39mNone\u001b[39;00m, (\u001b[39mself\u001b[39m\u001b[39m.\u001b[39mstdin, \u001b[39mself\u001b[39m\u001b[39m.\u001b[39mstdout, \u001b[39mself\u001b[39m\u001b[39m.\u001b[39mstderr)):\n",
      "File \u001b[1;32mc:\\Users\\roshr\\AppData\\Local\\Programs\\Python\\Python310\\lib\\subprocess.py:1438\u001b[0m, in \u001b[0;36mPopen._execute_child\u001b[1;34m(self, args, executable, preexec_fn, close_fds, pass_fds, cwd, env, startupinfo, creationflags, shell, p2cread, p2cwrite, c2pread, c2pwrite, errread, errwrite, unused_restore_signals, unused_gid, unused_gids, unused_uid, unused_umask, unused_start_new_session)\u001b[0m\n\u001b[0;32m   1436\u001b[0m \u001b[39m# Start the process\u001b[39;00m\n\u001b[0;32m   1437\u001b[0m \u001b[39mtry\u001b[39;00m:\n\u001b[1;32m-> 1438\u001b[0m     hp, ht, pid, tid \u001b[39m=\u001b[39m _winapi\u001b[39m.\u001b[39;49mCreateProcess(executable, args,\n\u001b[0;32m   1439\u001b[0m                              \u001b[39m# no special security\u001b[39;49;00m\n\u001b[0;32m   1440\u001b[0m                              \u001b[39mNone\u001b[39;49;00m, \u001b[39mNone\u001b[39;49;00m,\n\u001b[0;32m   1441\u001b[0m                              \u001b[39mint\u001b[39;49m(\u001b[39mnot\u001b[39;49;00m close_fds),\n\u001b[0;32m   1442\u001b[0m                              creationflags,\n\u001b[0;32m   1443\u001b[0m                              env,\n\u001b[0;32m   1444\u001b[0m                              cwd,\n\u001b[0;32m   1445\u001b[0m                              startupinfo)\n\u001b[0;32m   1446\u001b[0m \u001b[39mfinally\u001b[39;00m:\n\u001b[0;32m   1447\u001b[0m     \u001b[39m# Child is launched. Close the parent's copy of those pipe\u001b[39;00m\n\u001b[0;32m   1448\u001b[0m     \u001b[39m# handles that only the child should have open.  You need\u001b[39;00m\n\u001b[1;32m   (...)\u001b[0m\n\u001b[0;32m   1451\u001b[0m     \u001b[39m# pipe will not close when the child process exits and the\u001b[39;00m\n\u001b[0;32m   1452\u001b[0m     \u001b[39m# ReadFile will hang.\u001b[39;00m\n\u001b[0;32m   1453\u001b[0m     \u001b[39mself\u001b[39m\u001b[39m.\u001b[39m_close_pipe_fds(p2cread, p2cwrite,\n\u001b[0;32m   1454\u001b[0m                          c2pread, c2pwrite,\n\u001b[0;32m   1455\u001b[0m                          errread, errwrite)\n",
      "\u001b[1;31mPermissionError\u001b[0m: [WinError 5] Access is denied"
     ]
    }
   ],
   "source": [
    "\n",
    "image = cv2.imread('test.jpeg')\n",
    "gray = cv2.cvtColor(image, cv2.COLOR_BGR2GRAY)\n",
    "blur = cv2.GaussianBlur(gray, (3,3), 0)\n",
    "thresh = cv2.threshold(blur, 0, 255, cv2.THRESH_BINARY_INV + cv2.THRESH_OTSU)[1]\n",
    "\n",
    "# Morph open to remove noise and invert image\n",
    "kernel = cv2.getStructuringElement(cv2.MORPH_RECT, (3,3))\n",
    "opening = cv2.morphologyEx(thresh, cv2.MORPH_OPEN, kernel, iterations=1)\n",
    "invert = 255 - opening\n",
    "\n",
    "# # Perform text extraction\n",
    "data = pytesseract.image_to_string(invert, lang='eng', config='--psm 6')\n",
    "print(data)\n",
    "\n",
    "# cv2.imshow('thresh', thresh)\n",
    "# cv2.imshow('opening', opening)\n",
    "# cv2.imshow('invert', invert)\n",
    "cv2.imwrite('converted.jpg',invert)\n",
    "\n"
   ]
  },
  {
   "cell_type": "code",
   "execution_count": null,
   "metadata": {},
   "outputs": [
    {
     "ename": "SyntaxError",
     "evalue": "invalid syntax (2552950655.py, line 7)",
     "output_type": "error",
     "traceback": [
      "\u001b[1;36m  Input \u001b[1;32mIn [7]\u001b[1;36m\u001b[0m\n\u001b[1;33m    img=\u001b[0m\n\u001b[1;37m        ^\u001b[0m\n\u001b[1;31mSyntaxError\u001b[0m\u001b[1;31m:\u001b[0m invalid syntax\n"
     ]
    },
    {
     "ename": "",
     "evalue": "",
     "output_type": "error",
     "traceback": [
      "\u001b[1;31mThe Kernel crashed while executing code in the the current cell or a previous cell. Please review the code in the cell(s) to identify a possible cause of the failure. Click <a href='https://aka.ms/vscodeJupyterKernelCrash'>here</a> for more info. View Jupyter <a href='command:jupyter.viewOutput'>log</a> for further details."
     ]
    }
   ],
   "source": [
    "r = requests.get(df.iloc[0,0])\n",
    "\n",
    "with open('test.jpeg', 'wb') as out:\n",
    "    out.write(r.content)\n",
    "im = Image.open(\"test.jpeg\")\n",
    "im = im.convert('L')\n",
    "img=\n",
    "# im.show()\n",
    "text=pytesseract.image_to_string()"
   ]
  },
  {
   "cell_type": "code",
   "execution_count": null,
   "metadata": {},
   "outputs": [
    {
     "ename": "SyntaxError",
     "evalue": "(unicode error) 'unicodeescape' codec can't decode bytes in position 2-3: truncated \\UXXXXXXXX escape (1457624800.py, line 2)",
     "output_type": "error",
     "traceback": [
      "\u001b[1;36m  Input \u001b[1;32mIn [2]\u001b[1;36m\u001b[0m\n\u001b[1;33m    img=Image.open('C:\\Users\\roshr\\Subspace\\test.jpeg')\u001b[0m\n\u001b[1;37m                                                      ^\u001b[0m\n\u001b[1;31mSyntaxError\u001b[0m\u001b[1;31m:\u001b[0m (unicode error) 'unicodeescape' codec can't decode bytes in position 2-3: truncated \\UXXXXXXXX escape\n"
     ]
    }
   ],
   "source": [
    "image_path=r'test.jpeg'\n",
    "img=Image.open(image_path)\n",
    "\n",
    "data = pytesseract.image_to_string(img, lang='eng', config='--psm 6')\n",
    "print(data)\n",
    "# text=pytesseract.image_to_string(img)\n",
    "# print(text[:-1])\n"
   ]
  }
 ],
 "metadata": {
  "kernelspec": {
   "display_name": "Python 3.10.5 64-bit",
   "language": "python",
   "name": "python3"
  },
  "language_info": {
   "codemirror_mode": {
    "name": "ipython",
    "version": 3
   },
   "file_extension": ".py",
   "mimetype": "text/x-python",
   "name": "python",
   "nbconvert_exporter": "python",
   "pygments_lexer": "ipython3",
   "version": "3.10.5"
  },
  "orig_nbformat": 4,
  "vscode": {
   "interpreter": {
    "hash": "81a5c4060a85b93e5abdc9559743780c516e67be92a552c78eb67f27eff09551"
   }
  }
 },
 "nbformat": 4,
 "nbformat_minor": 2
}
